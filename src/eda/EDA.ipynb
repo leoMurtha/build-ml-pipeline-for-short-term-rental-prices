{
 "cells": [
  {
   "cell_type": "code",
   "execution_count": 1,
   "id": "fef3287a",
   "metadata": {
    "ExecuteTime": {
     "end_time": "2022-07-24T18:00:42.915756Z",
     "start_time": "2022-07-24T18:00:42.209089Z"
    }
   },
   "outputs": [],
   "source": [
    "import wandb\n",
    "import pandas as pd"
   ]
  },
  {
   "cell_type": "code",
   "execution_count": 2,
   "id": "116c4684",
   "metadata": {
    "ExecuteTime": {
     "end_time": "2022-07-24T18:00:47.023376Z",
     "start_time": "2022-07-24T18:00:43.654433Z"
    }
   },
   "outputs": [
    {
     "name": "stderr",
     "output_type": "stream",
     "text": [
      "\u001b[34m\u001b[1mwandb\u001b[0m: Currently logged in as: \u001b[33mleomeireles\u001b[0m (use `wandb login --relogin` to force relogin)\n",
      "/Users/leo/opt/miniconda3/envs/nyc_airbnb_dev/lib/python3.9/site-packages/IPython/html.py:12: ShimWarning: The `IPython.html` package has been deprecated since IPython 4.0. You should import from `notebook` instead. `IPython.html.widgets` has moved to `ipywidgets`.\n",
      "  warn(\"The `IPython.html` package has been deprecated since IPython 4.0. \"\n",
      "\u001b[34m\u001b[1mwandb\u001b[0m: wandb version 0.12.21 is available!  To upgrade, please run:\n",
      "\u001b[34m\u001b[1mwandb\u001b[0m:  $ pip install wandb --upgrade\n"
     ]
    },
    {
     "data": {
      "text/html": [
       "\n",
       "                Tracking run with wandb version 0.10.31<br/>\n",
       "                Syncing run <strong style=\"color:#cdcd00\">summer-firefly-3</strong> to <a href=\"https://wandb.ai\" target=\"_blank\">Weights & Biases</a> <a href=\"https://docs.wandb.com/integrations/jupyter.html\" target=\"_blank\">(Documentation)</a>.<br/>\n",
       "                Project page: <a href=\"https://wandb.ai/leomeireles/nyc_airbnb\" target=\"_blank\">https://wandb.ai/leomeireles/nyc_airbnb</a><br/>\n",
       "                Run page: <a href=\"https://wandb.ai/leomeireles/nyc_airbnb/runs/36vgj8nt\" target=\"_blank\">https://wandb.ai/leomeireles/nyc_airbnb/runs/36vgj8nt</a><br/>\n",
       "                Run data is saved locally in <code>/Users/leo/Documents/Code/Projects/udacity_mle/build-ml-pipeline-for-short-term-rental-prices/src/eda/wandb/run-20220724_150044-36vgj8nt</code><br/><br/>\n",
       "            "
      ],
      "text/plain": [
       "<IPython.core.display.HTML object>"
      ]
     },
     "metadata": {},
     "output_type": "display_data"
    }
   ],
   "source": [
    "run = wandb.init(project=\"nyc_airbnb\", group=\"eda\", save_code=True)\n",
    "local_path = wandb.use_artifact(\"sample.csv:latest\").file()\n",
    "df = pd.read_csv(local_path)"
   ]
  },
  {
   "cell_type": "code",
   "execution_count": 4,
   "id": "2c4822f4",
   "metadata": {
    "ExecuteTime": {
     "end_time": "2022-07-24T18:01:22.561866Z",
     "start_time": "2022-07-24T18:01:05.827272Z"
    },
    "scrolled": true
   },
   "outputs": [
    {
     "name": "stdout",
     "output_type": "stream",
     "text": [
      "Collecting pandas_profiling\n",
      "  Using cached pandas_profiling-3.2.0-py2.py3-none-any.whl (262 kB)\n",
      "Requirement already satisfied: requests>=2.24.0 in /Users/leo/opt/miniconda3/envs/nyc_airbnb_dev/lib/python3.9/site-packages (from pandas_profiling) (2.28.1)\n",
      "Requirement already satisfied: numpy>=1.16.0 in /Users/leo/opt/miniconda3/envs/nyc_airbnb_dev/lib/python3.9/site-packages (from pandas_profiling) (1.23.1)\n",
      "Requirement already satisfied: pandas!=1.0.0,!=1.0.1,!=1.0.2,!=1.1.0,>=0.25.3 in /Users/leo/opt/miniconda3/envs/nyc_airbnb_dev/lib/python3.9/site-packages (from pandas_profiling) (1.2.3)\n",
      "Requirement already satisfied: matplotlib>=3.2.0 in /Users/leo/opt/miniconda3/envs/nyc_airbnb_dev/lib/python3.9/site-packages (from pandas_profiling) (3.3.4)\n",
      "Requirement already satisfied: PyYAML>=5.0.0 in /Users/leo/opt/miniconda3/envs/nyc_airbnb_dev/lib/python3.9/site-packages (from pandas_profiling) (6.0)\n",
      "Requirement already satisfied: jinja2>=2.11.1 in /Users/leo/opt/miniconda3/envs/nyc_airbnb_dev/lib/python3.9/site-packages (from pandas_profiling) (2.11.3)\n",
      "Collecting tangled-up-in-unicode==0.2.0\n",
      "  Using cached tangled_up_in_unicode-0.2.0-py3-none-any.whl (4.7 MB)\n",
      "Collecting visions[type_image_path]==0.7.4\n",
      "  Using cached visions-0.7.4-py3-none-any.whl (102 kB)\n",
      "Requirement already satisfied: attrs>=19.3.0 in /Users/leo/opt/miniconda3/envs/nyc_airbnb_dev/lib/python3.9/site-packages (from visions[type_image_path]==0.7.4->pandas_profiling) (21.4.0)\n",
      "Requirement already satisfied: Pillow in /Users/leo/opt/miniconda3/envs/nyc_airbnb_dev/lib/python3.9/site-packages (from visions[type_image_path]==0.7.4->pandas_profiling) (9.2.0)\n",
      "Collecting htmlmin>=0.1.12\n",
      "  Using cached htmlmin-0.1.12-py3-none-any.whl\n",
      "Collecting joblib~=1.1.0\n",
      "  Using cached joblib-1.1.0-py2.py3-none-any.whl (306 kB)\n",
      "Collecting markupsafe~=2.1.1\n",
      "  Using cached MarkupSafe-2.1.1-cp39-cp39-macosx_10_9_x86_64.whl (13 kB)\n",
      "Requirement already satisfied: pyparsing!=2.0.4,!=2.1.2,!=2.1.6,>=2.0.3 in /Users/leo/opt/miniconda3/envs/nyc_airbnb_dev/lib/python3.9/site-packages (from matplotlib>=3.2.0->pandas_profiling) (3.0.9)\n",
      "Requirement already satisfied: kiwisolver>=1.0.1 in /Users/leo/opt/miniconda3/envs/nyc_airbnb_dev/lib/python3.9/site-packages (from matplotlib>=3.2.0->pandas_profiling) (1.4.4)\n",
      "Requirement already satisfied: python-dateutil>=2.1 in /Users/leo/opt/miniconda3/envs/nyc_airbnb_dev/lib/python3.9/site-packages (from matplotlib>=3.2.0->pandas_profiling) (2.8.2)\n",
      "Requirement already satisfied: cycler>=0.10 in /Users/leo/opt/miniconda3/envs/nyc_airbnb_dev/lib/python3.9/site-packages (from matplotlib>=3.2.0->pandas_profiling) (0.11.0)\n",
      "Collecting missingno>=0.4.2\n",
      "  Using cached missingno-0.5.1-py3-none-any.whl (8.7 kB)\n",
      "Collecting multimethod>=1.4\n",
      "  Using cached multimethod-1.8-py3-none-any.whl (9.8 kB)\n",
      "Collecting networkx>=2.4\n",
      "  Using cached networkx-2.8.5-py3-none-any.whl (2.0 MB)\n",
      "Requirement already satisfied: pytz>=2017.3 in /Users/leo/opt/miniconda3/envs/nyc_airbnb_dev/lib/python3.9/site-packages (from pandas!=1.0.0,!=1.0.1,!=1.0.2,!=1.1.0,>=0.25.3->pandas_profiling) (2022.1)\n",
      "Collecting phik>=0.11.1\n",
      "  Using cached phik-0.12.2-cp39-cp39-macosx_10_13_x86_64.whl (694 kB)\n",
      "Collecting pydantic>=1.8.1\n",
      "  Using cached pydantic-1.9.1-cp39-cp39-macosx_10_9_x86_64.whl (3.0 MB)\n",
      "Requirement already satisfied: typing-extensions>=3.7.4.3 in /Users/leo/opt/miniconda3/envs/nyc_airbnb_dev/lib/python3.9/site-packages (from pydantic>=1.8.1->pandas_profiling) (4.3.0)\n",
      "Requirement already satisfied: six>=1.5 in /Users/leo/opt/miniconda3/envs/nyc_airbnb_dev/lib/python3.9/site-packages (from python-dateutil>=2.1->matplotlib>=3.2.0->pandas_profiling) (1.16.0)\n",
      "Requirement already satisfied: idna<4,>=2.5 in /Users/leo/opt/miniconda3/envs/nyc_airbnb_dev/lib/python3.9/site-packages (from requests>=2.24.0->pandas_profiling) (3.3)\n",
      "Requirement already satisfied: urllib3<1.27,>=1.21.1 in /Users/leo/opt/miniconda3/envs/nyc_airbnb_dev/lib/python3.9/site-packages (from requests>=2.24.0->pandas_profiling) (1.26.10)\n",
      "Requirement already satisfied: charset-normalizer<3,>=2 in /Users/leo/opt/miniconda3/envs/nyc_airbnb_dev/lib/python3.9/site-packages (from requests>=2.24.0->pandas_profiling) (2.1.0)\n",
      "Requirement already satisfied: certifi>=2017.4.17 in /Users/leo/opt/miniconda3/envs/nyc_airbnb_dev/lib/python3.9/site-packages (from requests>=2.24.0->pandas_profiling) (2022.6.15)\n",
      "Collecting scipy>=1.4.1\n",
      "  Using cached scipy-1.8.1-cp39-cp39-macosx_12_0_universal2.macosx_10_9_x86_64.whl (55.6 MB)\n",
      "Collecting seaborn>=0.10.1\n",
      "  Using cached seaborn-0.11.2-py3-none-any.whl (292 kB)\n",
      "Collecting tqdm>=4.48.2\n",
      "  Using cached tqdm-4.64.0-py2.py3-none-any.whl (78 kB)\n",
      "Collecting imagehash\n",
      "  Using cached ImageHash-4.2.1-py2.py3-none-any.whl\n",
      "Collecting PyWavelets\n",
      "  Using cached PyWavelets-1.3.0-cp39-cp39-macosx_10_13_x86_64.whl (4.4 MB)\n",
      "Installing collected packages: tangled-up-in-unicode, scipy, PyWavelets, networkx, multimethod, visions, seaborn, markupsafe, joblib, imagehash, tqdm, pydantic, phik, missingno, htmlmin, pandas-profiling\n",
      "  Attempting uninstall: markupsafe\n",
      "    Found existing installation: MarkupSafe 1.1.1\n",
      "    Uninstalling MarkupSafe-1.1.1:\n",
      "      Successfully uninstalled MarkupSafe-1.1.1\n",
      "\u001b[31mERROR: pip's dependency resolver does not currently take into account all the packages that are installed. This behaviour is the source of the following dependency conflicts.\n",
      "cookiecutter 1.7.2 requires MarkupSafe<2.0.0, but you have markupsafe 2.1.1 which is incompatible.\u001b[0m\n",
      "Successfully installed PyWavelets-1.3.0 htmlmin-0.1.12 imagehash-4.2.1 joblib-1.1.0 markupsafe-2.1.1 missingno-0.5.1 multimethod-1.8 networkx-2.8.5 pandas-profiling-3.2.0 phik-0.12.2 pydantic-1.9.1 scipy-1.8.1 seaborn-0.11.2 tangled-up-in-unicode-0.2.0 tqdm-4.64.0 visions-0.7.4\n"
     ]
    }
   ],
   "source": [
    "!pip install pandas_profiling"
   ]
  },
  {
   "cell_type": "code",
   "execution_count": 7,
   "id": "ca069c02",
   "metadata": {
    "ExecuteTime": {
     "end_time": "2022-07-24T18:02:37.721464Z",
     "start_time": "2022-07-24T18:02:33.852334Z"
    }
   },
   "outputs": [
    {
     "name": "stdout",
     "output_type": "stream",
     "text": [
      "Collecting ipywidgets\n",
      "  Downloading ipywidgets-7.7.1-py2.py3-none-any.whl (123 kB)\n",
      "\u001b[K     |████████████████████████████████| 123 kB 1.2 MB/s eta 0:00:01\n",
      "\u001b[?25hRequirement already satisfied: ipykernel>=4.5.1 in /Users/leo/opt/miniconda3/envs/nyc_airbnb_dev/lib/python3.9/site-packages (from ipywidgets) (5.5.5)\n",
      "Requirement already satisfied: ipython-genutils~=0.2.0 in /Users/leo/opt/miniconda3/envs/nyc_airbnb_dev/lib/python3.9/site-packages (from ipywidgets) (0.2.0)\n",
      "Requirement already satisfied: traitlets>=4.3.1 in /Users/leo/opt/miniconda3/envs/nyc_airbnb_dev/lib/python3.9/site-packages (from ipywidgets) (5.3.0)\n",
      "Requirement already satisfied: ipython>=4.0.0 in /Users/leo/opt/miniconda3/envs/nyc_airbnb_dev/lib/python3.9/site-packages (from ipywidgets) (7.21.0)\n",
      "Requirement already satisfied: tornado>=4.2 in /Users/leo/opt/miniconda3/envs/nyc_airbnb_dev/lib/python3.9/site-packages (from ipykernel>=4.5.1->ipywidgets) (6.2)\n",
      "Requirement already satisfied: jupyter-client in /Users/leo/opt/miniconda3/envs/nyc_airbnb_dev/lib/python3.9/site-packages (from ipykernel>=4.5.1->ipywidgets) (7.3.4)\n",
      "Requirement already satisfied: appnope in /Users/leo/opt/miniconda3/envs/nyc_airbnb_dev/lib/python3.9/site-packages (from ipykernel>=4.5.1->ipywidgets) (0.1.3)\n",
      "Requirement already satisfied: prompt-toolkit!=3.0.0,!=3.0.1,<3.1.0,>=2.0.0 in /Users/leo/opt/miniconda3/envs/nyc_airbnb_dev/lib/python3.9/site-packages (from ipython>=4.0.0->ipywidgets) (3.0.30)\n",
      "Requirement already satisfied: backcall in /Users/leo/opt/miniconda3/envs/nyc_airbnb_dev/lib/python3.9/site-packages (from ipython>=4.0.0->ipywidgets) (0.2.0)\n",
      "Requirement already satisfied: decorator in /Users/leo/opt/miniconda3/envs/nyc_airbnb_dev/lib/python3.9/site-packages (from ipython>=4.0.0->ipywidgets) (5.1.1)\n",
      "Requirement already satisfied: pickleshare in /Users/leo/opt/miniconda3/envs/nyc_airbnb_dev/lib/python3.9/site-packages (from ipython>=4.0.0->ipywidgets) (0.7.5)\n",
      "Requirement already satisfied: setuptools>=18.5 in /Users/leo/opt/miniconda3/envs/nyc_airbnb_dev/lib/python3.9/site-packages (from ipython>=4.0.0->ipywidgets) (59.8.0)\n",
      "Requirement already satisfied: jedi>=0.16 in /Users/leo/opt/miniconda3/envs/nyc_airbnb_dev/lib/python3.9/site-packages (from ipython>=4.0.0->ipywidgets) (0.18.1)\n",
      "Requirement already satisfied: pygments in /Users/leo/opt/miniconda3/envs/nyc_airbnb_dev/lib/python3.9/site-packages (from ipython>=4.0.0->ipywidgets) (2.12.0)\n",
      "Requirement already satisfied: pexpect>4.3 in /Users/leo/opt/miniconda3/envs/nyc_airbnb_dev/lib/python3.9/site-packages (from ipython>=4.0.0->ipywidgets) (4.8.0)\n",
      "Requirement already satisfied: parso<0.9.0,>=0.8.0 in /Users/leo/opt/miniconda3/envs/nyc_airbnb_dev/lib/python3.9/site-packages (from jedi>=0.16->ipython>=4.0.0->ipywidgets) (0.8.3)\n",
      "Collecting jupyterlab-widgets>=1.0.0\n",
      "  Downloading jupyterlab_widgets-1.1.1-py3-none-any.whl (245 kB)\n",
      "\u001b[K     |████████████████████████████████| 245 kB 1.7 MB/s eta 0:00:01\n",
      "\u001b[?25hRequirement already satisfied: ptyprocess>=0.5 in /Users/leo/opt/miniconda3/envs/nyc_airbnb_dev/lib/python3.9/site-packages (from pexpect>4.3->ipython>=4.0.0->ipywidgets) (0.7.0)\n",
      "Requirement already satisfied: wcwidth in /Users/leo/opt/miniconda3/envs/nyc_airbnb_dev/lib/python3.9/site-packages (from prompt-toolkit!=3.0.0,!=3.0.1,<3.1.0,>=2.0.0->ipython>=4.0.0->ipywidgets) (0.2.5)\n",
      "Collecting widgetsnbextension~=3.6.0\n",
      "  Downloading widgetsnbextension-3.6.1-py2.py3-none-any.whl (1.6 MB)\n",
      "\u001b[K     |████████████████████████████████| 1.6 MB 2.1 MB/s eta 0:00:01\n",
      "\u001b[?25hRequirement already satisfied: notebook>=4.4.1 in /Users/leo/opt/miniconda3/envs/nyc_airbnb_dev/lib/python3.9/site-packages (from widgetsnbextension~=3.6.0->ipywidgets) (6.2.0)\n",
      "Requirement already satisfied: pyzmq>=17 in /Users/leo/opt/miniconda3/envs/nyc_airbnb_dev/lib/python3.9/site-packages (from notebook>=4.4.1->widgetsnbextension~=3.6.0->ipywidgets) (23.2.0)\n",
      "Requirement already satisfied: argon2-cffi in /Users/leo/opt/miniconda3/envs/nyc_airbnb_dev/lib/python3.9/site-packages (from notebook>=4.4.1->widgetsnbextension~=3.6.0->ipywidgets) (21.3.0)\n",
      "Requirement already satisfied: Send2Trash>=1.5.0 in /Users/leo/opt/miniconda3/envs/nyc_airbnb_dev/lib/python3.9/site-packages (from notebook>=4.4.1->widgetsnbextension~=3.6.0->ipywidgets) (1.8.0)\n",
      "Requirement already satisfied: nbconvert in /Users/leo/opt/miniconda3/envs/nyc_airbnb_dev/lib/python3.9/site-packages (from notebook>=4.4.1->widgetsnbextension~=3.6.0->ipywidgets) (6.4.4)\n",
      "Requirement already satisfied: terminado>=0.8.3 in /Users/leo/opt/miniconda3/envs/nyc_airbnb_dev/lib/python3.9/site-packages (from notebook>=4.4.1->widgetsnbextension~=3.6.0->ipywidgets) (0.15.0)\n",
      "Requirement already satisfied: jinja2 in /Users/leo/opt/miniconda3/envs/nyc_airbnb_dev/lib/python3.9/site-packages (from notebook>=4.4.1->widgetsnbextension~=3.6.0->ipywidgets) (2.11.3)\n",
      "Requirement already satisfied: nbformat in /Users/leo/opt/miniconda3/envs/nyc_airbnb_dev/lib/python3.9/site-packages (from notebook>=4.4.1->widgetsnbextension~=3.6.0->ipywidgets) (5.4.0)\n",
      "Requirement already satisfied: prometheus-client in /Users/leo/opt/miniconda3/envs/nyc_airbnb_dev/lib/python3.9/site-packages (from notebook>=4.4.1->widgetsnbextension~=3.6.0->ipywidgets) (0.14.1)\n",
      "Requirement already satisfied: jupyter-core>=4.6.1 in /Users/leo/opt/miniconda3/envs/nyc_airbnb_dev/lib/python3.9/site-packages (from notebook>=4.4.1->widgetsnbextension~=3.6.0->ipywidgets) (4.11.1)\n",
      "Requirement already satisfied: entrypoints in /Users/leo/opt/miniconda3/envs/nyc_airbnb_dev/lib/python3.9/site-packages (from jupyter-client->ipykernel>=4.5.1->ipywidgets) (0.4)\n",
      "Requirement already satisfied: python-dateutil>=2.8.2 in /Users/leo/opt/miniconda3/envs/nyc_airbnb_dev/lib/python3.9/site-packages (from jupyter-client->ipykernel>=4.5.1->ipywidgets) (2.8.2)\n",
      "Requirement already satisfied: nest-asyncio>=1.5.4 in /Users/leo/opt/miniconda3/envs/nyc_airbnb_dev/lib/python3.9/site-packages (from jupyter-client->ipykernel>=4.5.1->ipywidgets) (1.5.5)\n",
      "Requirement already satisfied: six>=1.5 in /Users/leo/opt/miniconda3/envs/nyc_airbnb_dev/lib/python3.9/site-packages (from python-dateutil>=2.8.2->jupyter-client->ipykernel>=4.5.1->ipywidgets) (1.16.0)\n",
      "Requirement already satisfied: argon2-cffi-bindings in /Users/leo/opt/miniconda3/envs/nyc_airbnb_dev/lib/python3.9/site-packages (from argon2-cffi->notebook>=4.4.1->widgetsnbextension~=3.6.0->ipywidgets) (21.2.0)\n",
      "Requirement already satisfied: cffi>=1.0.1 in /Users/leo/opt/miniconda3/envs/nyc_airbnb_dev/lib/python3.9/site-packages (from argon2-cffi-bindings->argon2-cffi->notebook>=4.4.1->widgetsnbextension~=3.6.0->ipywidgets) (1.15.1)\n",
      "Requirement already satisfied: pycparser in /Users/leo/opt/miniconda3/envs/nyc_airbnb_dev/lib/python3.9/site-packages (from cffi>=1.0.1->argon2-cffi-bindings->argon2-cffi->notebook>=4.4.1->widgetsnbextension~=3.6.0->ipywidgets) (2.21)\n",
      "Requirement already satisfied: MarkupSafe>=0.23 in /Users/leo/opt/miniconda3/envs/nyc_airbnb_dev/lib/python3.9/site-packages (from jinja2->notebook>=4.4.1->widgetsnbextension~=3.6.0->ipywidgets) (2.1.1)\n",
      "Requirement already satisfied: nbclient<0.6.0,>=0.5.0 in /Users/leo/opt/miniconda3/envs/nyc_airbnb_dev/lib/python3.9/site-packages (from nbconvert->notebook>=4.4.1->widgetsnbextension~=3.6.0->ipywidgets) (0.5.13)\n",
      "Requirement already satisfied: bleach in /Users/leo/opt/miniconda3/envs/nyc_airbnb_dev/lib/python3.9/site-packages (from nbconvert->notebook>=4.4.1->widgetsnbextension~=3.6.0->ipywidgets) (5.0.1)\n",
      "Requirement already satisfied: pandocfilters>=1.4.1 in /Users/leo/opt/miniconda3/envs/nyc_airbnb_dev/lib/python3.9/site-packages (from nbconvert->notebook>=4.4.1->widgetsnbextension~=3.6.0->ipywidgets) (1.5.0)\n",
      "Requirement already satisfied: mistune<2,>=0.8.1 in /Users/leo/opt/miniconda3/envs/nyc_airbnb_dev/lib/python3.9/site-packages (from nbconvert->notebook>=4.4.1->widgetsnbextension~=3.6.0->ipywidgets) (0.8.4)\n",
      "Requirement already satisfied: jupyterlab-pygments in /Users/leo/opt/miniconda3/envs/nyc_airbnb_dev/lib/python3.9/site-packages (from nbconvert->notebook>=4.4.1->widgetsnbextension~=3.6.0->ipywidgets) (0.2.2)\n",
      "Requirement already satisfied: testpath in /Users/leo/opt/miniconda3/envs/nyc_airbnb_dev/lib/python3.9/site-packages (from nbconvert->notebook>=4.4.1->widgetsnbextension~=3.6.0->ipywidgets) (0.6.0)\n",
      "Requirement already satisfied: defusedxml in /Users/leo/opt/miniconda3/envs/nyc_airbnb_dev/lib/python3.9/site-packages (from nbconvert->notebook>=4.4.1->widgetsnbextension~=3.6.0->ipywidgets) (0.7.1)\n",
      "Requirement already satisfied: beautifulsoup4 in /Users/leo/opt/miniconda3/envs/nyc_airbnb_dev/lib/python3.9/site-packages (from nbconvert->notebook>=4.4.1->widgetsnbextension~=3.6.0->ipywidgets) (4.11.1)\n",
      "Requirement already satisfied: jsonschema>=2.6 in /Users/leo/opt/miniconda3/envs/nyc_airbnb_dev/lib/python3.9/site-packages (from nbformat->notebook>=4.4.1->widgetsnbextension~=3.6.0->ipywidgets) (4.7.2)\n",
      "Requirement already satisfied: fastjsonschema in /Users/leo/opt/miniconda3/envs/nyc_airbnb_dev/lib/python3.9/site-packages (from nbformat->notebook>=4.4.1->widgetsnbextension~=3.6.0->ipywidgets) (2.16.1)\n",
      "Requirement already satisfied: attrs>=17.4.0 in /Users/leo/opt/miniconda3/envs/nyc_airbnb_dev/lib/python3.9/site-packages (from jsonschema>=2.6->nbformat->notebook>=4.4.1->widgetsnbextension~=3.6.0->ipywidgets) (21.4.0)\n",
      "Requirement already satisfied: pyrsistent!=0.17.0,!=0.17.1,!=0.17.2,>=0.14.0 in /Users/leo/opt/miniconda3/envs/nyc_airbnb_dev/lib/python3.9/site-packages (from jsonschema>=2.6->nbformat->notebook>=4.4.1->widgetsnbextension~=3.6.0->ipywidgets) (0.18.1)\n"
     ]
    },
    {
     "name": "stdout",
     "output_type": "stream",
     "text": [
      "Requirement already satisfied: soupsieve>1.2 in /Users/leo/opt/miniconda3/envs/nyc_airbnb_dev/lib/python3.9/site-packages (from beautifulsoup4->nbconvert->notebook>=4.4.1->widgetsnbextension~=3.6.0->ipywidgets) (2.3.2.post1)\n",
      "Requirement already satisfied: webencodings in /Users/leo/opt/miniconda3/envs/nyc_airbnb_dev/lib/python3.9/site-packages (from bleach->nbconvert->notebook>=4.4.1->widgetsnbextension~=3.6.0->ipywidgets) (0.5.1)\n",
      "Installing collected packages: widgetsnbextension, jupyterlab-widgets, ipywidgets\n",
      "Successfully installed ipywidgets-7.7.1 jupyterlab-widgets-1.1.1 widgetsnbextension-3.6.1\n"
     ]
    }
   ],
   "source": [
    "!pip install ipywidgets"
   ]
  },
  {
   "cell_type": "code",
   "execution_count": 5,
   "id": "153557d8",
   "metadata": {
    "ExecuteTime": {
     "end_time": "2022-07-24T18:01:54.455745Z",
     "start_time": "2022-07-24T18:01:28.495813Z"
    }
   },
   "outputs": [
    {
     "name": "stderr",
     "output_type": "stream",
     "text": [
      "/Users/leo/opt/miniconda3/envs/nyc_airbnb_dev/lib/python3.9/site-packages/tqdm/auto.py:22: TqdmWarning: IProgress not found. Please update jupyter and ipywidgets. See https://ipywidgets.readthedocs.io/en/stable/user_install.html\n",
      "  from .autonotebook import tqdm as notebook_tqdm\n"
     ]
    }
   ],
   "source": [
    "import pandas_profiling"
   ]
  },
  {
   "cell_type": "code",
   "execution_count": 8,
   "id": "6ff1fb1d",
   "metadata": {
    "ExecuteTime": {
     "end_time": "2022-07-24T18:03:26.663278Z",
     "start_time": "2022-07-24T18:02:39.386630Z"
    }
   },
   "outputs": [
    {
     "name": "stderr",
     "output_type": "stream",
     "text": [
      "Summarize dataset: 100%|██████████| 131/131 [00:13<00:00,  9.89it/s, Completed]                                                             \n",
      "Generate report structure: 100%|██████████| 1/1 [00:03<00:00,  3.89s/it]\n",
      "                                                             \r"
     ]
    },
    {
     "data": {
      "application/vnd.jupyter.widget-view+json": {
       "model_id": "5e8bb2d8c1e742819cd80ff7fab970f1",
       "version_major": 2,
       "version_minor": 0
      },
      "text/plain": [
       "VBox(children=(Tab(children=(Tab(children=(GridBox(children=(VBox(children=(GridspecLayout(children=(HTML(valu…"
      ]
     },
     "metadata": {},
     "output_type": "display_data"
    }
   ],
   "source": [
    "profile = pandas_profiling.ProfileReport(df)\n",
    "profile.to_widgets()"
   ]
  },
  {
   "cell_type": "code",
   "execution_count": null,
   "id": "d605b4e3",
   "metadata": {},
   "outputs": [],
   "source": []
  }
 ],
 "metadata": {
  "kernelspec": {
   "display_name": "Python 3",
   "language": "python",
   "name": "python3"
  },
  "language_info": {
   "codemirror_mode": {
    "name": "ipython",
    "version": 3
   },
   "file_extension": ".py",
   "mimetype": "text/x-python",
   "name": "python",
   "nbconvert_exporter": "python",
   "pygments_lexer": "ipython3",
   "version": "3.9.13"
  },
  "toc": {
   "base_numbering": 1,
   "nav_menu": {},
   "number_sections": true,
   "sideBar": true,
   "skip_h1_title": false,
   "title_cell": "Table of Contents",
   "title_sidebar": "Contents",
   "toc_cell": false,
   "toc_position": {},
   "toc_section_display": true,
   "toc_window_display": false
  }
 },
 "nbformat": 4,
 "nbformat_minor": 5
}
